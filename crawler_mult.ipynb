{
 "cells": [
  {
   "cell_type": "code",
   "execution_count": null,
   "metadata": {},
   "outputs": [],
   "source": [
    "import time\n",
    "import threading\n",
    "\n",
    "\n",
    "def worker_pool(semaphore, flag):\n",
    "    semaphore.acquire()\n",
    "    print(\"I am %d\" % flag)\n",
    "    time.sleep(3)\n",
    "    semaphore.release()\n",
    "\n",
    "\n",
    "if __name__ == '__main__':\n",
    "    semaphore = threading.Semaphore(2)\n",
    "    n = 0\n",
    "    while n < 6:\n",
    "        p = threading.Thread(target=worker_pool, args=(semaphore, n))\n",
    "        p.start()\n",
    "        n += 1"
   ]
  },
  {
   "cell_type": "markdown",
   "metadata": {},
   "source": [
    "# 多線程"
   ]
  },
  {
   "cell_type": "code",
   "execution_count": 4,
   "metadata": {},
   "outputs": [
    {
     "name": "stdout",
     "output_type": "stream",
     "text": [
      "before sleep---on\n",
      "before sleep---two\n"
     ]
    },
    {
     "name": "stdout",
     "output_type": "stream",
     "text": [
      "after sleep---on\n",
      "after sleep---two\n"
     ]
    }
   ],
   "source": [
    "import time\n",
    "import threading\n",
    "\n",
    "\n",
    "def worker(flag):\n",
    "    print(\"before sleep---%s\" % flag)\n",
    "    time.sleep(10)\n",
    "    print(\"after sleep---%s\" % flag)\n",
    "\n",
    "\n",
    "if __name__ == '__main__':\n",
    "    p_one = threading.Thread(target=worker, args=(\"on\",))\n",
    "    p_two = threading.Thread(target=worker, args=(\"two\",))\n",
    "\n",
    "    p_one.start()\n",
    "    p_two.start()"
   ]
  },
  {
   "cell_type": "markdown",
   "metadata": {},
   "source": [
    "# 多進程"
   ]
  }
 ],
 "metadata": {
  "kernelspec": {
   "display_name": "base",
   "language": "python",
   "name": "python3"
  },
  "language_info": {
   "codemirror_mode": {
    "name": "ipython",
    "version": 3
   },
   "file_extension": ".py",
   "mimetype": "text/x-python",
   "name": "python",
   "nbconvert_exporter": "python",
   "pygments_lexer": "ipython3",
   "version": "3.11.5"
  }
 },
 "nbformat": 4,
 "nbformat_minor": 2
}
