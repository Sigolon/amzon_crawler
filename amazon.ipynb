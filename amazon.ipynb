{
 "cells": [
  {
   "cell_type": "markdown",
   "metadata": {},
   "source": [
    "# 筆記\n",
    "發現，Amazon 購物網站挑選下一頁的 token 只能夠取得當前頁面往後 1~2 頁的 url 資料。如此一來，會使多線呈爬蟲，不能夠對不同分頁同時請求。\n",
    "\n",
    "既然如此，我們可以透過將商品類別分成，盡可能小的細項進行排取，讓每個子類別中所有資料能夠呈現的部位，小於 3 頁，儘管對於大類別可能比較無效，但依舊可以增加爬取效率。\n",
    "\n",
    "其次，對 Amazon 進行 Http request 時，對方判定的標準是，Accept-Language、User-Agent。\n"
   ]
  },
  {
   "cell_type": "code",
   "execution_count": 16,
   "metadata": {},
   "outputs": [
    {
     "name": "stdout",
     "output_type": "stream",
     "text": [
      "<Response [200]>\n"
     ]
    }
   ],
   "source": [
    "import requests\n",
    "\n",
    "url = \"https://www.amazon.com/s?k=phone&rh=n%3A2335752011%2Cp_89%3AMotorola&dc&language=zh_TW&ds=v1%3AVMfVbrmE7kj0rGs7ByfXfgKg+Fdy2+iJxqkBu7+AUEE&crid=39TD05UXDXC1L&currency=USD&qid=1707550333&rnid=2528832011&sprefix=phon%2Caps%2C313&ref=sr_nr_p_89_1\"\n",
    "\n",
    "# 請求標頭\n",
    "headers = {\n",
    "    'User-Agent': 'Mozilla/5.0 (Windows NT 10.0; Win64; x64) AppleWebKit/537.36 (KHTML, like Gecko) Chrome/121.0.0.0 Safari/537.36 Edg/121.0.0.0',\n",
    "    # 'Accept': 'text/html,application/xhtml+xml,application/xml;q=0.9,image/avif,image/webp,image/apng,*/*;q=0.8,application/signed-exchange;v=b3;q=0.7',\n",
    "    'Accept-Encoding': 'gzip, deflate, br',\n",
    "    'Accept-Language': 'zh-TW,zh;q=0.9,en;q=0.8,en-GB;q=0.7,en-US;q=0.6',\n",
    "    # 'Cookie': '在這裡添加你的Cookie',\n",
    "    # 'Referer': 'https://www.amazon.com/-/zh_TW/customer-preferences/edit?ie=UTF8&preferencesReturnUrl=%2Fs%3Fk%3Dphone%26rh%3Dn%253A2335752011%252Cp_89%253AMotorola%26dc%26language%3Dzh_TW%26ds%3Dv1%253AVMfVbrmE7kj0rGs7ByfXfgKg%252BFdy2%252BiJxqkBu7%252BAUEE%26crid%3D39TD05UXDXC1L%26qid%3D1707550333%26rnid%3D2528832011%26sprefix%3Dphon%252Caps%252C313%26ref%3Dsr_nr_p_89_1',\n",
    "}\n",
    "\n",
    "# 發送 GET 請求\n",
    "response = requests.get(url, headers=headers)\n",
    "\n",
    "with open('amazon_search_results.html', 'w', encoding='utf-8') as f:\n",
    "    f.write(response.text)\n",
    "\n",
    "print(response)"
   ]
  },
  {
   "cell_type": "code",
   "execution_count": null,
   "metadata": {},
   "outputs": [],
   "source": [
    "import "
   ]
  }
 ],
 "metadata": {
  "kernelspec": {
   "display_name": "base",
   "language": "python",
   "name": "python3"
  },
  "language_info": {
   "codemirror_mode": {
    "name": "ipython",
    "version": 3
   },
   "file_extension": ".py",
   "mimetype": "text/x-python",
   "name": "python",
   "nbconvert_exporter": "python",
   "pygments_lexer": "ipython3",
   "version": "3.11.7"
  }
 },
 "nbformat": 4,
 "nbformat_minor": 2
}
